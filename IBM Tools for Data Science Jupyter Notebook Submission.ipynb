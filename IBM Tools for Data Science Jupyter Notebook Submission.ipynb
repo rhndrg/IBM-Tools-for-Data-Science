{
  "metadata": {
    "language_info": {
      "codemirror_mode": {
        "name": "python",
        "version": 3
      },
      "file_extension": ".py",
      "mimetype": "text/x-python",
      "name": "python",
      "nbconvert_exporter": "python",
      "pygments_lexer": "ipython3",
      "version": "3.8"
    },
    "kernelspec": {
      "name": "python",
      "display_name": "Pyolite",
      "language": "python"
    }
  },
  "nbformat_minor": 4,
  "nbformat": 4,
  "cells": [
    {
      "cell_type": "markdown",
      "source": "# My Jupyter Notebook on IBM Watson Studio",
      "metadata": {}
    },
    {
      "cell_type": "markdown",
      "source": "**ROHAN TICKOO** <br>Data scientist",
      "metadata": {}
    },
    {
      "cell_type": "markdown",
      "source": "_I am interested in Data Science because it is a very multidisciplinary field that will allow me to pursue multiple different fields of interest going forward and will be a very useful foundation for any future task_",
      "metadata": {}
    },
    {
      "cell_type": "markdown",
      "source": "### My code is supposed to express my sadness ^_^",
      "metadata": {}
    },
    {
      "cell_type": "code",
      "source": "print(\"Hey everyone my IBM cloud trial has expired :/\")",
      "metadata": {
        "trusted": true
      },
      "execution_count": 2,
      "outputs": [
        {
          "name": "stdout",
          "text": "Hey everyone my IBM cloud trial has expired :/\n",
          "output_type": "stream"
        }
      ]
    },
    {
      "cell_type": "markdown",
      "source": ">This is a blocked qoute\n>\n>It can be created by using the > (\"greater than\" symbol) before each sentence. For all of these lines to be a part of a single qoute, the blank space too must start with the greater than sign\n***\nThe above horizontal rule was created using three \"*\" in the previous line\n\n``The strikethrough can be initiated by putting double ~ at the start and the end of the sentence``\n",
      "metadata": {}
    },
    {
      "cell_type": "code",
      "source": "",
      "metadata": {},
      "execution_count": null,
      "outputs": []
    }
  ]
}